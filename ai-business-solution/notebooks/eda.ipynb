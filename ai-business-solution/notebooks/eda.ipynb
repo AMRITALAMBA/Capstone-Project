{
 "cells": [
  {
   "cell_type": "code",
   "source": [
    "import pandas as pd\n",
    "import seaborn as sns\n",
    "import matplotlib.pyplot as plt\n",
    "df = pd.read_csv('../data/raw_data.csv')\n",
    "sns.heatmap(df.corr(), annot=True)\n",
    "plt.show()"
   ],
   "metadata": {},
   "execution_count": null,
   "outputs": []
  }
 ],
 "metadata": {},
 "nbformat": 4,
 "nbformat_minor": 2
}
